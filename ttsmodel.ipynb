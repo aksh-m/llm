{
  "cells": [
    {
      "cell_type": "markdown",
      "metadata": {
        "id": "view-in-github",
        "colab_type": "text"
      },
      "source": [
        "<a href=\"https://colab.research.google.com/github/aksh-m/llm/blob/main/ttsmodel.ipynb\" target=\"_parent\"><img src=\"https://colab.research.google.com/assets/colab-badge.svg\" alt=\"Open In Colab\"/></a>"
      ]
    },
    {
      "cell_type": "code",
      "execution_count": null,
      "metadata": {
        "colab": {
          "base_uri": "https://localhost:8080/"
        },
        "id": "UjL_7Wmoi_xg",
        "outputId": "6f12ce6c-ecfb-4052-d90c-8e579c745c34"
      },
      "outputs": [
        {
          "name": "stdout",
          "output_type": "stream",
          "text": [
            "Cloning into 'WhisperSpeech'...\n",
            "remote: Enumerating objects: 1345, done.\u001b[K\n",
            "remote: Counting objects: 100% (684/684), done.\u001b[K\n",
            "remote: Compressing objects: 100% (232/232), done.\u001b[K\n",
            "remote: Total 1345 (delta 505), reused 521 (delta 444), pack-reused 661\u001b[K\n",
            "Receiving objects: 100% (1345/1345), 37.40 MiB | 22.28 MiB/s, done.\n",
            "Resolving deltas: 100% (865/865), done.\n"
          ]
        }
      ],
      "source": [
        "!git clone https://github.com/collabora/WhisperSpeech"
      ]
    },
    {
      "cell_type": "code",
      "execution_count": null,
      "metadata": {
        "colab": {
          "base_uri": "https://localhost:8080/"
        },
        "id": "fdac8407",
        "outputId": "99c26b6e-4f9a-41b7-90ec-253b6016a9ac"
      },
      "outputs": [
        {
          "name": "stdout",
          "output_type": "stream",
          "text": [
            "\u001b[2K     \u001b[90m━━━━━━━━━━━━━━━━━━━━━━━━━━━━━━━━━━━━━━━━\u001b[0m \u001b[32m62.7/62.7 kB\u001b[0m \u001b[31m2.2 MB/s\u001b[0m eta \u001b[36m0:00:00\u001b[0m\n",
            "\u001b[2K     \u001b[90m━━━━━━━━━━━━━━━━━━━━━━━━━━━━━━━━━━━━━━━━\u001b[0m \u001b[32m630.6/630.6 kB\u001b[0m \u001b[31m19.7 MB/s\u001b[0m eta \u001b[36m0:00:00\u001b[0m\n",
            "\u001b[2K     \u001b[90m━━━━━━━━━━━━━━━━━━━━━━━━━━━━━━━━━━━━━━━━\u001b[0m \u001b[32m23.7/23.7 MB\u001b[0m \u001b[31m48.4 MB/s\u001b[0m eta \u001b[36m0:00:00\u001b[0m\n",
            "\u001b[2K     \u001b[90m━━━━━━━━━━━━━━━━━━━━━━━━━━━━━━━━━━━━━━━━\u001b[0m \u001b[32m823.6/823.6 kB\u001b[0m \u001b[31m60.1 MB/s\u001b[0m eta \u001b[36m0:00:00\u001b[0m\n",
            "\u001b[2K     \u001b[90m━━━━━━━━━━━━━━━━━━━━━━━━━━━━━━━━━━━━━━━━\u001b[0m \u001b[32m14.1/14.1 MB\u001b[0m \u001b[31m79.4 MB/s\u001b[0m eta \u001b[36m0:00:00\u001b[0m\n",
            "\u001b[2K     \u001b[90m━━━━━━━━━━━━━━━━━━━━━━━━━━━━━━━━━━━━━━━━\u001b[0m \u001b[32m731.7/731.7 MB\u001b[0m \u001b[31m571.7 kB/s\u001b[0m eta \u001b[36m0:00:00\u001b[0m\n",
            "\u001b[2K     \u001b[90m━━━━━━━━━━━━━━━━━━━━━━━━━━━━━━━━━━━━━━━━\u001b[0m \u001b[32m410.6/410.6 MB\u001b[0m \u001b[31m2.1 MB/s\u001b[0m eta \u001b[36m0:00:00\u001b[0m\n",
            "\u001b[2K     \u001b[90m━━━━━━━━━━━━━━━━━━━━━━━━━━━━━━━━━━━━━━━━\u001b[0m \u001b[32m121.6/121.6 MB\u001b[0m \u001b[31m8.4 MB/s\u001b[0m eta \u001b[36m0:00:00\u001b[0m\n",
            "\u001b[2K     \u001b[90m━━━━━━━━━━━━━━━━━━━━━━━━━━━━━━━━━━━━━━━━\u001b[0m \u001b[32m56.5/56.5 MB\u001b[0m \u001b[31m11.5 MB/s\u001b[0m eta \u001b[36m0:00:00\u001b[0m\n",
            "\u001b[2K     \u001b[90m━━━━━━━━━━━━━━━━━━━━━━━━━━━━━━━━━━━━━━━━\u001b[0m \u001b[32m124.2/124.2 MB\u001b[0m \u001b[31m6.0 MB/s\u001b[0m eta \u001b[36m0:00:00\u001b[0m\n",
            "\u001b[2K     \u001b[90m━━━━━━━━━━━━━━━━━━━━━━━━━━━━━━━━━━━━━━━━\u001b[0m \u001b[32m196.0/196.0 MB\u001b[0m \u001b[31m4.3 MB/s\u001b[0m eta \u001b[36m0:00:00\u001b[0m\n",
            "\u001b[2K     \u001b[90m━━━━━━━━━━━━━━━━━━━━━━━━━━━━━━━━━━━━━━━━\u001b[0m \u001b[32m166.0/166.0 MB\u001b[0m \u001b[31m2.5 MB/s\u001b[0m eta \u001b[36m0:00:00\u001b[0m\n",
            "\u001b[2K     \u001b[90m━━━━━━━━━━━━━━━━━━━━━━━━━━━━━━━━━━━━━━━━\u001b[0m \u001b[32m99.1/99.1 kB\u001b[0m \u001b[31m12.4 MB/s\u001b[0m eta \u001b[36m0:00:00\u001b[0m\n",
            "\u001b[2K     \u001b[90m━━━━━━━━━━━━━━━━━━━━━━━━━━━━━━━━━━━━━━━━\u001b[0m \u001b[32m21.1/21.1 MB\u001b[0m \u001b[31m60.9 MB/s\u001b[0m eta \u001b[36m0:00:00\u001b[0m\n",
            "\u001b[2K     \u001b[90m━━━━━━━━━━━━━━━━━━━━━━━━━━━━━━━━━━━━━━━━\u001b[0m \u001b[32m44.6/44.6 kB\u001b[0m \u001b[31m6.2 MB/s\u001b[0m eta \u001b[36m0:00:00\u001b[0m\n",
            "\u001b[2K     \u001b[90m━━━━━━━━━━━━━━━━━━━━━━━━━━━━━━━━━━━━━━━━\u001b[0m \u001b[32m3.7/3.7 MB\u001b[0m \u001b[31m89.8 MB/s\u001b[0m eta \u001b[36m0:00:00\u001b[0m\n",
            "\u001b[?25h  Preparing metadata (setup.py) ... \u001b[?25l\u001b[?25hdone\n",
            "\u001b[2K     \u001b[90m━━━━━━━━━━━━━━━━━━━━━━━━━━━━━━━━━━━━━━━━\u001b[0m \u001b[32m117.8/117.8 kB\u001b[0m \u001b[31m8.1 MB/s\u001b[0m eta \u001b[36m0:00:00\u001b[0m\n",
            "\u001b[2K     \u001b[90m━━━━━━━━━━━━━━━━━━━━━━━━━━━━━━━━━━━━━━━━\u001b[0m \u001b[32m526.7/526.7 kB\u001b[0m \u001b[31m38.9 MB/s\u001b[0m eta \u001b[36m0:00:00\u001b[0m\n",
            "\u001b[?25h  Building wheel for encodec (setup.py) ... \u001b[?25l\u001b[?25hdone\n"
          ]
        }
      ],
      "source": [
        "# Do not forget to install all dependencies first:\n",
        "!pip install -Uqq WhisperSpeech"
      ]
    },
    {
      "cell_type": "code",
      "execution_count": null,
      "metadata": {
        "id": "e7885be1"
      },
      "outputs": [],
      "source": [
        "%load_ext autoreload\n",
        "%autoreload 2"
      ]
    },
    {
      "cell_type": "code",
      "execution_count": null,
      "metadata": {
        "id": "f32e8d5f"
      },
      "outputs": [],
      "source": [
        "import torch\n",
        "import torch.nn.functional as F\n",
        "\n",
        "from IPython.display import Markdown, HTML"
      ]
    },
    {
      "cell_type": "code",
      "execution_count": null,
      "metadata": {
        "id": "93525c56"
      },
      "outputs": [],
      "source": [
        "# check \"7. Pipeline.ipynb\"\n",
        "from whisperspeech.pipeline import Pipeline"
      ]
    },
    {
      "cell_type": "code",
      "execution_count": null,
      "metadata": {
        "colab": {
          "base_uri": "https://localhost:8080/",
          "height": 395,
          "referenced_widgets": [
            "fc50c64c8dd34c14aae00c60c80bc14b",
            "502f25609563495da7f0c808812b60c8",
            "cf50cb4f776d464685aa7062e6d33742",
            "87e6aa93db7046bdbd2388594cc8be94",
            "5ecd521e1d4b498397e3ff58ebeea972",
            "8dc792aea5a04e3b9b571bbde09aaadd",
            "d2e493cde30f4b66bf7d0f589781d981",
            "3b3202c342cb443b98e562ea3e4bf45c",
            "3c6a14c6957244bd83bdecf7478b4960",
            "aeb25f72d1c745b097dcc88f0c03eee2",
            "ee91d6f5b9f44e48a92331949a0e6a2b",
            "f6f3461f264b4792aaa5e2a5508032e1",
            "ac1a8684afd9450fbe18c10a16677482",
            "40091257188949c988f52b13fe99c545",
            "b0f8d81c7fb9420b94893f627a3c451a",
            "ae0bb200369d44c9bc30acc11dc46b20",
            "051867bb0d534b318831e3e72c7e0865",
            "9595aa6ebffe4bdd917cdbe037274955",
            "29ccb323b4904c9ab15a31749fa1ca96",
            "795e6f852f05450db9d48269f60e0056",
            "f9d73e5608e046af884dfd50111a2798",
            "d1bafd42f60f4668a1bd3ee5687216c5",
            "0d757428530f441fa6840edbccef2e7a",
            "4c4cce10cf9c4771915e9147568598a3",
            "ebd3c32a45344724b7281430f5167cf4",
            "118ecb6b244343eeb2a3d852e6e5d0eb",
            "c8c87cee0d514f3eba9c8954afc8fd97",
            "bfe6bb0085f746e29129e35a945529a9",
            "66f6e64b033f432d90c4ae0a8045c5ef",
            "af64c21fef704a759f772a4eea2135b1",
            "85cbc45e02764e04a1ad7ba9d43dea49",
            "3ad31b2dbd5c4acf8c507c08beb2fc67",
            "fb5a665ee0924f409af457c6feb53080",
            "63e58a2154e440e8a134f5dc446853a8",
            "fe72872089724c16a203b005a301c594",
            "f3d0f7bb02f64d82a060b18f20784ce6",
            "eecde508342b46b181f5837e56ac7b7f",
            "a0cba0612d15409189870a43a73a9d53",
            "d7e53170e4af413fb4b5bde4693f5715",
            "cd5b89ed37e64738b17aca98a061d98c",
            "125e345a79084045a51c7ceaad739bfd",
            "f1b39125448a4b6c8b0aa946e8cce31a",
            "5521d5bfc8f34036a97b2ae014276046",
            "8585d7765f95413da9d871db5b0cdf89"
          ]
        },
        "id": "49be72e0",
        "outputId": "a5e77750-29a9-491f-bfad-b0b628d5a334"
      },
      "outputs": [
        {
          "name": "stderr",
          "output_type": "stream",
          "text": [
            "/usr/local/lib/python3.10/dist-packages/huggingface_hub/utils/_token.py:88: UserWarning: \n",
            "The secret `HF_TOKEN` does not exist in your Colab secrets.\n",
            "To authenticate with the Hugging Face Hub, create a token in your settings tab (https://huggingface.co/settings/tokens), set it as secret in your Google Colab and restart your session.\n",
            "You will be able to reuse this secret in all of your notebooks.\n",
            "Please note that authentication is recommended but still optional to access public models or datasets.\n",
            "  warnings.warn(\n"
          ]
        },
        {
          "data": {
            "application/vnd.jupyter.widget-view+json": {
              "model_id": "fc50c64c8dd34c14aae00c60c80bc14b",
              "version_major": 2,
              "version_minor": 0
            },
            "text/plain": [
              "t2s-small-en+pl.model:   0%|          | 0.00/856M [00:00<?, ?B/s]"
            ]
          },
          "metadata": {},
          "output_type": "display_data"
        },
        {
          "data": {
            "application/vnd.jupyter.widget-view+json": {
              "model_id": "f6f3461f264b4792aaa5e2a5508032e1",
              "version_major": 2,
              "version_minor": 0
            },
            "text/plain": [
              "s2a-q4-tiny-en+pl.model:   0%|          | 0.00/80.3M [00:00<?, ?B/s]"
            ]
          },
          "metadata": {},
          "output_type": "display_data"
        },
        {
          "data": {
            "application/vnd.jupyter.widget-view+json": {
              "model_id": "0d757428530f441fa6840edbccef2e7a",
              "version_major": 2,
              "version_minor": 0
            },
            "text/plain": [
              "config.yaml:   0%|          | 0.00/503 [00:00<?, ?B/s]"
            ]
          },
          "metadata": {},
          "output_type": "display_data"
        },
        {
          "data": {
            "application/vnd.jupyter.widget-view+json": {
              "model_id": "63e58a2154e440e8a134f5dc446853a8",
              "version_major": 2,
              "version_minor": 0
            },
            "text/plain": [
              "pytorch_model.bin:   0%|          | 0.00/40.4M [00:00<?, ?B/s]"
            ]
          },
          "metadata": {},
          "output_type": "display_data"
        },
        {
          "name": "stderr",
          "output_type": "stream",
          "text": [
            "/usr/local/lib/python3.10/dist-packages/torch/nn/utils/weight_norm.py:28: UserWarning: torch.nn.utils.weight_norm is deprecated in favor of torch.nn.utils.parametrizations.weight_norm.\n",
            "  warnings.warn(\"torch.nn.utils.weight_norm is deprecated in favor of torch.nn.utils.parametrizations.weight_norm.\")\n",
            "Downloading: \"https://dl.fbaipublicfiles.com/encodec/v0/encodec_24khz-d7cc33bc.th\" to /root/.cache/torch/hub/checkpoints/encodec_24khz-d7cc33bc.th\n",
            "100%|██████████| 88.9M/88.9M [00:00<00:00, 114MB/s]\n"
          ]
        }
      ],
      "source": [
        "# let's start with the fast SD S2A model\n",
        "pipe = Pipeline(s2a_ref='collabora/whisperspeech:s2a-q4-tiny-en+pl.model')"
      ]
    },
    {
      "cell_type": "code",
      "execution_count": null,
      "metadata": {
        "id": "R6U59kN3QdXd"
      },
      "outputs": [],
      "source": [
        "def ttsfn():\n",
        "  result = pipe.generate_to_notebook(input(\"Enter Text:\"))\n",
        "  result\n",
        "  return result"
      ]
    },
    {
      "cell_type": "code",
      "execution_count": null,
      "metadata": {
        "colab": {
          "background_save": true,
          "base_uri": "https://localhost:8080/",
          "height": 57
        },
        "id": "C8lcn9nZYJnT",
        "outputId": "66bf7a05-0e85-40a7-81fb-ecedafb8e01c"
      },
      "outputs": [
        {
          "data": {
            "text/html": [
              "\n",
              "<style>\n",
              "    /* Turns off some styling */\n",
              "    progress {\n",
              "        /* gets rid of default border in Firefox and Opera. */\n",
              "        border: none;\n",
              "        /* Needs to be in here for Safari polyfill so background images work as expected. */\n",
              "        background-size: auto;\n",
              "    }\n",
              "    progress:not([value]), progress:not([value])::-webkit-progress-bar {\n",
              "        background: repeating-linear-gradient(45deg, #7e7e7e, #7e7e7e 10px, #5c5c5c 10px, #5c5c5c 20px);\n",
              "    }\n",
              "    .progress-bar-interrupted, .progress-bar-interrupted::-webkit-progress-bar {\n",
              "        background: #F44336;\n",
              "    }\n",
              "</style>\n"
            ],
            "text/plain": [
              "<IPython.core.display.HTML object>"
            ]
          },
          "metadata": {},
          "output_type": "display_data"
        },
        {
          "data": {
            "text/html": [
              "\n",
              "    <div>\n",
              "      <progress value='24' class='' max='748' style='width:300px; height:20px; vertical-align: middle;'></progress>\n",
              "      3.21% [24/748 08:04&lt;4:03:24]\n",
              "    </div>\n",
              "    "
            ],
            "text/plain": [
              "<IPython.core.display.HTML object>"
            ]
          },
          "metadata": {},
          "output_type": "display_data"
        },
        {
          "data": {
            "text/html": [
              "\n",
              "<style>\n",
              "    /* Turns off some styling */\n",
              "    progress {\n",
              "        /* gets rid of default border in Firefox and Opera. */\n",
              "        border: none;\n",
              "        /* Needs to be in here for Safari polyfill so background images work as expected. */\n",
              "        background-size: auto;\n",
              "    }\n",
              "    progress:not([value]), progress:not([value])::-webkit-progress-bar {\n",
              "        background: repeating-linear-gradient(45deg, #7e7e7e, #7e7e7e 10px, #5c5c5c 10px, #5c5c5c 20px);\n",
              "    }\n",
              "    .progress-bar-interrupted, .progress-bar-interrupted::-webkit-progress-bar {\n",
              "        background: #F44336;\n",
              "    }\n",
              "</style>\n"
            ],
            "text/plain": [
              "<IPython.core.display.HTML object>"
            ]
          },
          "metadata": {},
          "output_type": "display_data"
        },
        {
          "data": {
            "text/html": [
              "\n",
              "    <div>\n",
              "      <progress value='44' class='' max='44' style='width:300px; height:20px; vertical-align: middle;'></progress>\n",
              "      100.00% [44/44 01:41&lt;00:00]\n",
              "    </div>\n",
              "    "
            ],
            "text/plain": [
              "<IPython.core.display.HTML object>"
            ]
          },
          "metadata": {},
          "output_type": "display_data"
        },
        {
          "data": {
            "text/html": [
              "\n",
              "                <audio  controls=\"controls\" >\n",
              "                    <source src=\"data:audio/wav;base64,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\" type=\"audio/wav\" />\n",
              "                    Your browser does not support the audio element.\n",
              "                </audio>\n",
              "              "
            ],
            "text/plain": [
              "<IPython.lib.display.Audio object>"
            ]
          },
          "metadata": {},
          "output_type": "display_data"
        }
      ],
      "source": [
        "pipe.generate_to_notebook(\"hi hello\")"
      ]
    },
    {
      "cell_type": "code",
      "execution_count": 21,
      "metadata": {
        "colab": {
          "base_uri": "https://localhost:8080/",
          "height": 132
        },
        "id": "lo7w0_YwX1-r",
        "outputId": "0bb1c456-aaf6-4511-8876-f6dbbcbd0edb"
      },
      "outputs": [
        {
          "name": "stdout",
          "output_type": "stream",
          "text": [
            "Enter Text:have a good day \n"
          ]
        },
        {
          "output_type": "display_data",
          "data": {
            "text/plain": [
              "<IPython.core.display.HTML object>"
            ],
            "text/html": [
              "\n",
              "<style>\n",
              "    /* Turns off some styling */\n",
              "    progress {\n",
              "        /* gets rid of default border in Firefox and Opera. */\n",
              "        border: none;\n",
              "        /* Needs to be in here for Safari polyfill so background images work as expected. */\n",
              "        background-size: auto;\n",
              "    }\n",
              "    progress:not([value]), progress:not([value])::-webkit-progress-bar {\n",
              "        background: repeating-linear-gradient(45deg, #7e7e7e, #7e7e7e 10px, #5c5c5c 10px, #5c5c5c 20px);\n",
              "    }\n",
              "    .progress-bar-interrupted, .progress-bar-interrupted::-webkit-progress-bar {\n",
              "        background: #F44336;\n",
              "    }\n",
              "</style>\n"
            ]
          },
          "metadata": {}
        },
        {
          "output_type": "display_data",
          "data": {
            "text/plain": [
              "<IPython.core.display.HTML object>"
            ],
            "text/html": [
              "\n",
              "    <div>\n",
              "      <progress value='49' class='' max='748' style='width:300px; height:20px; vertical-align: middle;'></progress>\n",
              "      6.55% [49/748 16:41&lt;3:58:10]\n",
              "    </div>\n",
              "    "
            ]
          },
          "metadata": {}
        },
        {
          "output_type": "display_data",
          "data": {
            "text/plain": [
              "<IPython.core.display.HTML object>"
            ],
            "text/html": [
              "\n",
              "<style>\n",
              "    /* Turns off some styling */\n",
              "    progress {\n",
              "        /* gets rid of default border in Firefox and Opera. */\n",
              "        border: none;\n",
              "        /* Needs to be in here for Safari polyfill so background images work as expected. */\n",
              "        background-size: auto;\n",
              "    }\n",
              "    progress:not([value]), progress:not([value])::-webkit-progress-bar {\n",
              "        background: repeating-linear-gradient(45deg, #7e7e7e, #7e7e7e 10px, #5c5c5c 10px, #5c5c5c 20px);\n",
              "    }\n",
              "    .progress-bar-interrupted, .progress-bar-interrupted::-webkit-progress-bar {\n",
              "        background: #F44336;\n",
              "    }\n",
              "</style>\n"
            ]
          },
          "metadata": {}
        },
        {
          "output_type": "display_data",
          "data": {
            "text/plain": [
              "<IPython.core.display.HTML object>"
            ],
            "text/html": [
              "\n",
              "    <div>\n",
              "      <progress value='77' class='' max='77' style='width:300px; height:20px; vertical-align: middle;'></progress>\n",
              "      100.00% [77/77 03:00&lt;00:00]\n",
              "    </div>\n",
              "    "
            ]
          },
          "metadata": {}
        },
        {
          "output_type": "display_data",
          "data": {
            "text/plain": [
              "<IPython.lib.display.Audio object>"
            ],
            "text/html": [
              "\n",
              "                <audio  controls=\"controls\" >\n",
              "                    <source src=\"data:audio/wav;base64,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\" type=\"audio/wav\" />\n",
              "                    Your browser does not support the audio element.\n",
              "                </audio>\n",
              "              "
            ]
          },
          "metadata": {}
        }
      ],
      "source": [
        "ttsfn()"
      ]
    }
  ],
  "metadata": {
    "accelerator": "GPU",
    "colab": {
      "gpuType": "T4",
      "provenance": [],
      "authorship_tag": "ABX9TyM+zUp+AVrl2cakxVuoVWRc",
      "include_colab_link": true
    },
    "kernelspec": {
      "display_name": "Python 3",
      "name": "python3"
    },
    "language_info": {
      "name": "python"
    },
    "widgets": {
      "application/vnd.jupyter.widget-state+json": {
        "051867bb0d534b318831e3e72c7e0865": {
          "model_module": "@jupyter-widgets/base",
          "model_module_version": "1.2.0",
          "model_name": "LayoutModel",
          "state": {
            "_model_module": "@jupyter-widgets/base",
            "_model_module_version": "1.2.0",
            "_model_name": "LayoutModel",
            "_view_count": null,
            "_view_module": "@jupyter-widgets/base",
            "_view_module_version": "1.2.0",
            "_view_name": "LayoutView",
            "align_content": null,
            "align_items": null,
            "align_self": null,
            "border": null,
            "bottom": null,
            "display": null,
            "flex": null,
            "flex_flow": null,
            "grid_area": null,
            "grid_auto_columns": null,
            "grid_auto_flow": null,
            "grid_auto_rows": null,
            "grid_column": null,
            "grid_gap": null,
            "grid_row": null,
            "grid_template_areas": null,
            "grid_template_columns": null,
            "grid_template_rows": null,
            "height": null,
            "justify_content": null,
            "justify_items": null,
            "left": null,
            "margin": null,
            "max_height": null,
            "max_width": null,
            "min_height": null,
            "min_width": null,
            "object_fit": null,
            "object_position": null,
            "order": null,
            "overflow": null,
            "overflow_x": null,
            "overflow_y": null,
            "padding": null,
            "right": null,
            "top": null,
            "visibility": null,
            "width": null
          }
        },
        "0d757428530f441fa6840edbccef2e7a": {
          "model_module": "@jupyter-widgets/controls",
          "model_module_version": "1.5.0",
          "model_name": "HBoxModel",
          "state": {
            "_dom_classes": [],
            "_model_module": "@jupyter-widgets/controls",
            "_model_module_version": "1.5.0",
            "_model_name": "HBoxModel",
            "_view_count": null,
            "_view_module": "@jupyter-widgets/controls",
            "_view_module_version": "1.5.0",
            "_view_name": "HBoxView",
            "box_style": "",
            "children": [
              "IPY_MODEL_4c4cce10cf9c4771915e9147568598a3",
              "IPY_MODEL_ebd3c32a45344724b7281430f5167cf4",
              "IPY_MODEL_118ecb6b244343eeb2a3d852e6e5d0eb"
            ],
            "layout": "IPY_MODEL_c8c87cee0d514f3eba9c8954afc8fd97"
          }
        },
        "118ecb6b244343eeb2a3d852e6e5d0eb": {
          "model_module": "@jupyter-widgets/controls",
          "model_module_version": "1.5.0",
          "model_name": "HTMLModel",
          "state": {
            "_dom_classes": [],
            "_model_module": "@jupyter-widgets/controls",
            "_model_module_version": "1.5.0",
            "_model_name": "HTMLModel",
            "_view_count": null,
            "_view_module": "@jupyter-widgets/controls",
            "_view_module_version": "1.5.0",
            "_view_name": "HTMLView",
            "description": "",
            "description_tooltip": null,
            "layout": "IPY_MODEL_3ad31b2dbd5c4acf8c507c08beb2fc67",
            "placeholder": "​",
            "style": "IPY_MODEL_fb5a665ee0924f409af457c6feb53080",
            "value": " 503/503 [00:00&lt;00:00, 17.8kB/s]"
          }
        },
        "125e345a79084045a51c7ceaad739bfd": {
          "model_module": "@jupyter-widgets/base",
          "model_module_version": "1.2.0",
          "model_name": "LayoutModel",
          "state": {
            "_model_module": "@jupyter-widgets/base",
            "_model_module_version": "1.2.0",
            "_model_name": "LayoutModel",
            "_view_count": null,
            "_view_module": "@jupyter-widgets/base",
            "_view_module_version": "1.2.0",
            "_view_name": "LayoutView",
            "align_content": null,
            "align_items": null,
            "align_self": null,
            "border": null,
            "bottom": null,
            "display": null,
            "flex": null,
            "flex_flow": null,
            "grid_area": null,
            "grid_auto_columns": null,
            "grid_auto_flow": null,
            "grid_auto_rows": null,
            "grid_column": null,
            "grid_gap": null,
            "grid_row": null,
            "grid_template_areas": null,
            "grid_template_columns": null,
            "grid_template_rows": null,
            "height": null,
            "justify_content": null,
            "justify_items": null,
            "left": null,
            "margin": null,
            "max_height": null,
            "max_width": null,
            "min_height": null,
            "min_width": null,
            "object_fit": null,
            "object_position": null,
            "order": null,
            "overflow": null,
            "overflow_x": null,
            "overflow_y": null,
            "padding": null,
            "right": null,
            "top": null,
            "visibility": null,
            "width": null
          }
        },
        "29ccb323b4904c9ab15a31749fa1ca96": {
          "model_module": "@jupyter-widgets/base",
          "model_module_version": "1.2.0",
          "model_name": "LayoutModel",
          "state": {
            "_model_module": "@jupyter-widgets/base",
            "_model_module_version": "1.2.0",
            "_model_name": "LayoutModel",
            "_view_count": null,
            "_view_module": "@jupyter-widgets/base",
            "_view_module_version": "1.2.0",
            "_view_name": "LayoutView",
            "align_content": null,
            "align_items": null,
            "align_self": null,
            "border": null,
            "bottom": null,
            "display": null,
            "flex": null,
            "flex_flow": null,
            "grid_area": null,
            "grid_auto_columns": null,
            "grid_auto_flow": null,
            "grid_auto_rows": null,
            "grid_column": null,
            "grid_gap": null,
            "grid_row": null,
            "grid_template_areas": null,
            "grid_template_columns": null,
            "grid_template_rows": null,
            "height": null,
            "justify_content": null,
            "justify_items": null,
            "left": null,
            "margin": null,
            "max_height": null,
            "max_width": null,
            "min_height": null,
            "min_width": null,
            "object_fit": null,
            "object_position": null,
            "order": null,
            "overflow": null,
            "overflow_x": null,
            "overflow_y": null,
            "padding": null,
            "right": null,
            "top": null,
            "visibility": null,
            "width": null
          }
        },
        "3ad31b2dbd5c4acf8c507c08beb2fc67": {
          "model_module": "@jupyter-widgets/base",
          "model_module_version": "1.2.0",
          "model_name": "LayoutModel",
          "state": {
            "_model_module": "@jupyter-widgets/base",
            "_model_module_version": "1.2.0",
            "_model_name": "LayoutModel",
            "_view_count": null,
            "_view_module": "@jupyter-widgets/base",
            "_view_module_version": "1.2.0",
            "_view_name": "LayoutView",
            "align_content": null,
            "align_items": null,
            "align_self": null,
            "border": null,
            "bottom": null,
            "display": null,
            "flex": null,
            "flex_flow": null,
            "grid_area": null,
            "grid_auto_columns": null,
            "grid_auto_flow": null,
            "grid_auto_rows": null,
            "grid_column": null,
            "grid_gap": null,
            "grid_row": null,
            "grid_template_areas": null,
            "grid_template_columns": null,
            "grid_template_rows": null,
            "height": null,
            "justify_content": null,
            "justify_items": null,
            "left": null,
            "margin": null,
            "max_height": null,
            "max_width": null,
            "min_height": null,
            "min_width": null,
            "object_fit": null,
            "object_position": null,
            "order": null,
            "overflow": null,
            "overflow_x": null,
            "overflow_y": null,
            "padding": null,
            "right": null,
            "top": null,
            "visibility": null,
            "width": null
          }
        },
        "3b3202c342cb443b98e562ea3e4bf45c": {
          "model_module": "@jupyter-widgets/base",
          "model_module_version": "1.2.0",
          "model_name": "LayoutModel",
          "state": {
            "_model_module": "@jupyter-widgets/base",
            "_model_module_version": "1.2.0",
            "_model_name": "LayoutModel",
            "_view_count": null,
            "_view_module": "@jupyter-widgets/base",
            "_view_module_version": "1.2.0",
            "_view_name": "LayoutView",
            "align_content": null,
            "align_items": null,
            "align_self": null,
            "border": null,
            "bottom": null,
            "display": null,
            "flex": null,
            "flex_flow": null,
            "grid_area": null,
            "grid_auto_columns": null,
            "grid_auto_flow": null,
            "grid_auto_rows": null,
            "grid_column": null,
            "grid_gap": null,
            "grid_row": null,
            "grid_template_areas": null,
            "grid_template_columns": null,
            "grid_template_rows": null,
            "height": null,
            "justify_content": null,
            "justify_items": null,
            "left": null,
            "margin": null,
            "max_height": null,
            "max_width": null,
            "min_height": null,
            "min_width": null,
            "object_fit": null,
            "object_position": null,
            "order": null,
            "overflow": null,
            "overflow_x": null,
            "overflow_y": null,
            "padding": null,
            "right": null,
            "top": null,
            "visibility": null,
            "width": null
          }
        },
        "3c6a14c6957244bd83bdecf7478b4960": {
          "model_module": "@jupyter-widgets/controls",
          "model_module_version": "1.5.0",
          "model_name": "ProgressStyleModel",
          "state": {
            "_model_module": "@jupyter-widgets/controls",
            "_model_module_version": "1.5.0",
            "_model_name": "ProgressStyleModel",
            "_view_count": null,
            "_view_module": "@jupyter-widgets/base",
            "_view_module_version": "1.2.0",
            "_view_name": "StyleView",
            "bar_color": null,
            "description_width": ""
          }
        },
        "40091257188949c988f52b13fe99c545": {
          "model_module": "@jupyter-widgets/controls",
          "model_module_version": "1.5.0",
          "model_name": "FloatProgressModel",
          "state": {
            "_dom_classes": [],
            "_model_module": "@jupyter-widgets/controls",
            "_model_module_version": "1.5.0",
            "_model_name": "FloatProgressModel",
            "_view_count": null,
            "_view_module": "@jupyter-widgets/controls",
            "_view_module_version": "1.5.0",
            "_view_name": "ProgressView",
            "bar_style": "success",
            "description": "",
            "description_tooltip": null,
            "layout": "IPY_MODEL_29ccb323b4904c9ab15a31749fa1ca96",
            "max": 80341978,
            "min": 0,
            "orientation": "horizontal",
            "style": "IPY_MODEL_795e6f852f05450db9d48269f60e0056",
            "value": 80341978
          }
        },
        "4c4cce10cf9c4771915e9147568598a3": {
          "model_module": "@jupyter-widgets/controls",
          "model_module_version": "1.5.0",
          "model_name": "HTMLModel",
          "state": {
            "_dom_classes": [],
            "_model_module": "@jupyter-widgets/controls",
            "_model_module_version": "1.5.0",
            "_model_name": "HTMLModel",
            "_view_count": null,
            "_view_module": "@jupyter-widgets/controls",
            "_view_module_version": "1.5.0",
            "_view_name": "HTMLView",
            "description": "",
            "description_tooltip": null,
            "layout": "IPY_MODEL_bfe6bb0085f746e29129e35a945529a9",
            "placeholder": "​",
            "style": "IPY_MODEL_66f6e64b033f432d90c4ae0a8045c5ef",
            "value": "config.yaml: 100%"
          }
        },
        "502f25609563495da7f0c808812b60c8": {
          "model_module": "@jupyter-widgets/controls",
          "model_module_version": "1.5.0",
          "model_name": "HTMLModel",
          "state": {
            "_dom_classes": [],
            "_model_module": "@jupyter-widgets/controls",
            "_model_module_version": "1.5.0",
            "_model_name": "HTMLModel",
            "_view_count": null,
            "_view_module": "@jupyter-widgets/controls",
            "_view_module_version": "1.5.0",
            "_view_name": "HTMLView",
            "description": "",
            "description_tooltip": null,
            "layout": "IPY_MODEL_8dc792aea5a04e3b9b571bbde09aaadd",
            "placeholder": "​",
            "style": "IPY_MODEL_d2e493cde30f4b66bf7d0f589781d981",
            "value": "t2s-small-en+pl.model: 100%"
          }
        },
        "5521d5bfc8f34036a97b2ae014276046": {
          "model_module": "@jupyter-widgets/base",
          "model_module_version": "1.2.0",
          "model_name": "LayoutModel",
          "state": {
            "_model_module": "@jupyter-widgets/base",
            "_model_module_version": "1.2.0",
            "_model_name": "LayoutModel",
            "_view_count": null,
            "_view_module": "@jupyter-widgets/base",
            "_view_module_version": "1.2.0",
            "_view_name": "LayoutView",
            "align_content": null,
            "align_items": null,
            "align_self": null,
            "border": null,
            "bottom": null,
            "display": null,
            "flex": null,
            "flex_flow": null,
            "grid_area": null,
            "grid_auto_columns": null,
            "grid_auto_flow": null,
            "grid_auto_rows": null,
            "grid_column": null,
            "grid_gap": null,
            "grid_row": null,
            "grid_template_areas": null,
            "grid_template_columns": null,
            "grid_template_rows": null,
            "height": null,
            "justify_content": null,
            "justify_items": null,
            "left": null,
            "margin": null,
            "max_height": null,
            "max_width": null,
            "min_height": null,
            "min_width": null,
            "object_fit": null,
            "object_position": null,
            "order": null,
            "overflow": null,
            "overflow_x": null,
            "overflow_y": null,
            "padding": null,
            "right": null,
            "top": null,
            "visibility": null,
            "width": null
          }
        },
        "5ecd521e1d4b498397e3ff58ebeea972": {
          "model_module": "@jupyter-widgets/base",
          "model_module_version": "1.2.0",
          "model_name": "LayoutModel",
          "state": {
            "_model_module": "@jupyter-widgets/base",
            "_model_module_version": "1.2.0",
            "_model_name": "LayoutModel",
            "_view_count": null,
            "_view_module": "@jupyter-widgets/base",
            "_view_module_version": "1.2.0",
            "_view_name": "LayoutView",
            "align_content": null,
            "align_items": null,
            "align_self": null,
            "border": null,
            "bottom": null,
            "display": null,
            "flex": null,
            "flex_flow": null,
            "grid_area": null,
            "grid_auto_columns": null,
            "grid_auto_flow": null,
            "grid_auto_rows": null,
            "grid_column": null,
            "grid_gap": null,
            "grid_row": null,
            "grid_template_areas": null,
            "grid_template_columns": null,
            "grid_template_rows": null,
            "height": null,
            "justify_content": null,
            "justify_items": null,
            "left": null,
            "margin": null,
            "max_height": null,
            "max_width": null,
            "min_height": null,
            "min_width": null,
            "object_fit": null,
            "object_position": null,
            "order": null,
            "overflow": null,
            "overflow_x": null,
            "overflow_y": null,
            "padding": null,
            "right": null,
            "top": null,
            "visibility": null,
            "width": null
          }
        },
        "63e58a2154e440e8a134f5dc446853a8": {
          "model_module": "@jupyter-widgets/controls",
          "model_module_version": "1.5.0",
          "model_name": "HBoxModel",
          "state": {
            "_dom_classes": [],
            "_model_module": "@jupyter-widgets/controls",
            "_model_module_version": "1.5.0",
            "_model_name": "HBoxModel",
            "_view_count": null,
            "_view_module": "@jupyter-widgets/controls",
            "_view_module_version": "1.5.0",
            "_view_name": "HBoxView",
            "box_style": "",
            "children": [
              "IPY_MODEL_fe72872089724c16a203b005a301c594",
              "IPY_MODEL_f3d0f7bb02f64d82a060b18f20784ce6",
              "IPY_MODEL_eecde508342b46b181f5837e56ac7b7f"
            ],
            "layout": "IPY_MODEL_a0cba0612d15409189870a43a73a9d53"
          }
        },
        "66f6e64b033f432d90c4ae0a8045c5ef": {
          "model_module": "@jupyter-widgets/controls",
          "model_module_version": "1.5.0",
          "model_name": "DescriptionStyleModel",
          "state": {
            "_model_module": "@jupyter-widgets/controls",
            "_model_module_version": "1.5.0",
            "_model_name": "DescriptionStyleModel",
            "_view_count": null,
            "_view_module": "@jupyter-widgets/base",
            "_view_module_version": "1.2.0",
            "_view_name": "StyleView",
            "description_width": ""
          }
        },
        "795e6f852f05450db9d48269f60e0056": {
          "model_module": "@jupyter-widgets/controls",
          "model_module_version": "1.5.0",
          "model_name": "ProgressStyleModel",
          "state": {
            "_model_module": "@jupyter-widgets/controls",
            "_model_module_version": "1.5.0",
            "_model_name": "ProgressStyleModel",
            "_view_count": null,
            "_view_module": "@jupyter-widgets/base",
            "_view_module_version": "1.2.0",
            "_view_name": "StyleView",
            "bar_color": null,
            "description_width": ""
          }
        },
        "8585d7765f95413da9d871db5b0cdf89": {
          "model_module": "@jupyter-widgets/controls",
          "model_module_version": "1.5.0",
          "model_name": "DescriptionStyleModel",
          "state": {
            "_model_module": "@jupyter-widgets/controls",
            "_model_module_version": "1.5.0",
            "_model_name": "DescriptionStyleModel",
            "_view_count": null,
            "_view_module": "@jupyter-widgets/base",
            "_view_module_version": "1.2.0",
            "_view_name": "StyleView",
            "description_width": ""
          }
        },
        "85cbc45e02764e04a1ad7ba9d43dea49": {
          "model_module": "@jupyter-widgets/controls",
          "model_module_version": "1.5.0",
          "model_name": "ProgressStyleModel",
          "state": {
            "_model_module": "@jupyter-widgets/controls",
            "_model_module_version": "1.5.0",
            "_model_name": "ProgressStyleModel",
            "_view_count": null,
            "_view_module": "@jupyter-widgets/base",
            "_view_module_version": "1.2.0",
            "_view_name": "StyleView",
            "bar_color": null,
            "description_width": ""
          }
        },
        "87e6aa93db7046bdbd2388594cc8be94": {
          "model_module": "@jupyter-widgets/controls",
          "model_module_version": "1.5.0",
          "model_name": "HTMLModel",
          "state": {
            "_dom_classes": [],
            "_model_module": "@jupyter-widgets/controls",
            "_model_module_version": "1.5.0",
            "_model_name": "HTMLModel",
            "_view_count": null,
            "_view_module": "@jupyter-widgets/controls",
            "_view_module_version": "1.5.0",
            "_view_name": "HTMLView",
            "description": "",
            "description_tooltip": null,
            "layout": "IPY_MODEL_aeb25f72d1c745b097dcc88f0c03eee2",
            "placeholder": "​",
            "style": "IPY_MODEL_ee91d6f5b9f44e48a92331949a0e6a2b",
            "value": " 856M/856M [00:05&lt;00:00, 191MB/s]"
          }
        },
        "8dc792aea5a04e3b9b571bbde09aaadd": {
          "model_module": "@jupyter-widgets/base",
          "model_module_version": "1.2.0",
          "model_name": "LayoutModel",
          "state": {
            "_model_module": "@jupyter-widgets/base",
            "_model_module_version": "1.2.0",
            "_model_name": "LayoutModel",
            "_view_count": null,
            "_view_module": "@jupyter-widgets/base",
            "_view_module_version": "1.2.0",
            "_view_name": "LayoutView",
            "align_content": null,
            "align_items": null,
            "align_self": null,
            "border": null,
            "bottom": null,
            "display": null,
            "flex": null,
            "flex_flow": null,
            "grid_area": null,
            "grid_auto_columns": null,
            "grid_auto_flow": null,
            "grid_auto_rows": null,
            "grid_column": null,
            "grid_gap": null,
            "grid_row": null,
            "grid_template_areas": null,
            "grid_template_columns": null,
            "grid_template_rows": null,
            "height": null,
            "justify_content": null,
            "justify_items": null,
            "left": null,
            "margin": null,
            "max_height": null,
            "max_width": null,
            "min_height": null,
            "min_width": null,
            "object_fit": null,
            "object_position": null,
            "order": null,
            "overflow": null,
            "overflow_x": null,
            "overflow_y": null,
            "padding": null,
            "right": null,
            "top": null,
            "visibility": null,
            "width": null
          }
        },
        "9595aa6ebffe4bdd917cdbe037274955": {
          "model_module": "@jupyter-widgets/controls",
          "model_module_version": "1.5.0",
          "model_name": "DescriptionStyleModel",
          "state": {
            "_model_module": "@jupyter-widgets/controls",
            "_model_module_version": "1.5.0",
            "_model_name": "DescriptionStyleModel",
            "_view_count": null,
            "_view_module": "@jupyter-widgets/base",
            "_view_module_version": "1.2.0",
            "_view_name": "StyleView",
            "description_width": ""
          }
        },
        "a0cba0612d15409189870a43a73a9d53": {
          "model_module": "@jupyter-widgets/base",
          "model_module_version": "1.2.0",
          "model_name": "LayoutModel",
          "state": {
            "_model_module": "@jupyter-widgets/base",
            "_model_module_version": "1.2.0",
            "_model_name": "LayoutModel",
            "_view_count": null,
            "_view_module": "@jupyter-widgets/base",
            "_view_module_version": "1.2.0",
            "_view_name": "LayoutView",
            "align_content": null,
            "align_items": null,
            "align_self": null,
            "border": null,
            "bottom": null,
            "display": null,
            "flex": null,
            "flex_flow": null,
            "grid_area": null,
            "grid_auto_columns": null,
            "grid_auto_flow": null,
            "grid_auto_rows": null,
            "grid_column": null,
            "grid_gap": null,
            "grid_row": null,
            "grid_template_areas": null,
            "grid_template_columns": null,
            "grid_template_rows": null,
            "height": null,
            "justify_content": null,
            "justify_items": null,
            "left": null,
            "margin": null,
            "max_height": null,
            "max_width": null,
            "min_height": null,
            "min_width": null,
            "object_fit": null,
            "object_position": null,
            "order": null,
            "overflow": null,
            "overflow_x": null,
            "overflow_y": null,
            "padding": null,
            "right": null,
            "top": null,
            "visibility": null,
            "width": null
          }
        },
        "ac1a8684afd9450fbe18c10a16677482": {
          "model_module": "@jupyter-widgets/controls",
          "model_module_version": "1.5.0",
          "model_name": "HTMLModel",
          "state": {
            "_dom_classes": [],
            "_model_module": "@jupyter-widgets/controls",
            "_model_module_version": "1.5.0",
            "_model_name": "HTMLModel",
            "_view_count": null,
            "_view_module": "@jupyter-widgets/controls",
            "_view_module_version": "1.5.0",
            "_view_name": "HTMLView",
            "description": "",
            "description_tooltip": null,
            "layout": "IPY_MODEL_051867bb0d534b318831e3e72c7e0865",
            "placeholder": "​",
            "style": "IPY_MODEL_9595aa6ebffe4bdd917cdbe037274955",
            "value": "s2a-q4-tiny-en+pl.model: 100%"
          }
        },
        "ae0bb200369d44c9bc30acc11dc46b20": {
          "model_module": "@jupyter-widgets/base",
          "model_module_version": "1.2.0",
          "model_name": "LayoutModel",
          "state": {
            "_model_module": "@jupyter-widgets/base",
            "_model_module_version": "1.2.0",
            "_model_name": "LayoutModel",
            "_view_count": null,
            "_view_module": "@jupyter-widgets/base",
            "_view_module_version": "1.2.0",
            "_view_name": "LayoutView",
            "align_content": null,
            "align_items": null,
            "align_self": null,
            "border": null,
            "bottom": null,
            "display": null,
            "flex": null,
            "flex_flow": null,
            "grid_area": null,
            "grid_auto_columns": null,
            "grid_auto_flow": null,
            "grid_auto_rows": null,
            "grid_column": null,
            "grid_gap": null,
            "grid_row": null,
            "grid_template_areas": null,
            "grid_template_columns": null,
            "grid_template_rows": null,
            "height": null,
            "justify_content": null,
            "justify_items": null,
            "left": null,
            "margin": null,
            "max_height": null,
            "max_width": null,
            "min_height": null,
            "min_width": null,
            "object_fit": null,
            "object_position": null,
            "order": null,
            "overflow": null,
            "overflow_x": null,
            "overflow_y": null,
            "padding": null,
            "right": null,
            "top": null,
            "visibility": null,
            "width": null
          }
        },
        "aeb25f72d1c745b097dcc88f0c03eee2": {
          "model_module": "@jupyter-widgets/base",
          "model_module_version": "1.2.0",
          "model_name": "LayoutModel",
          "state": {
            "_model_module": "@jupyter-widgets/base",
            "_model_module_version": "1.2.0",
            "_model_name": "LayoutModel",
            "_view_count": null,
            "_view_module": "@jupyter-widgets/base",
            "_view_module_version": "1.2.0",
            "_view_name": "LayoutView",
            "align_content": null,
            "align_items": null,
            "align_self": null,
            "border": null,
            "bottom": null,
            "display": null,
            "flex": null,
            "flex_flow": null,
            "grid_area": null,
            "grid_auto_columns": null,
            "grid_auto_flow": null,
            "grid_auto_rows": null,
            "grid_column": null,
            "grid_gap": null,
            "grid_row": null,
            "grid_template_areas": null,
            "grid_template_columns": null,
            "grid_template_rows": null,
            "height": null,
            "justify_content": null,
            "justify_items": null,
            "left": null,
            "margin": null,
            "max_height": null,
            "max_width": null,
            "min_height": null,
            "min_width": null,
            "object_fit": null,
            "object_position": null,
            "order": null,
            "overflow": null,
            "overflow_x": null,
            "overflow_y": null,
            "padding": null,
            "right": null,
            "top": null,
            "visibility": null,
            "width": null
          }
        },
        "af64c21fef704a759f772a4eea2135b1": {
          "model_module": "@jupyter-widgets/base",
          "model_module_version": "1.2.0",
          "model_name": "LayoutModel",
          "state": {
            "_model_module": "@jupyter-widgets/base",
            "_model_module_version": "1.2.0",
            "_model_name": "LayoutModel",
            "_view_count": null,
            "_view_module": "@jupyter-widgets/base",
            "_view_module_version": "1.2.0",
            "_view_name": "LayoutView",
            "align_content": null,
            "align_items": null,
            "align_self": null,
            "border": null,
            "bottom": null,
            "display": null,
            "flex": null,
            "flex_flow": null,
            "grid_area": null,
            "grid_auto_columns": null,
            "grid_auto_flow": null,
            "grid_auto_rows": null,
            "grid_column": null,
            "grid_gap": null,
            "grid_row": null,
            "grid_template_areas": null,
            "grid_template_columns": null,
            "grid_template_rows": null,
            "height": null,
            "justify_content": null,
            "justify_items": null,
            "left": null,
            "margin": null,
            "max_height": null,
            "max_width": null,
            "min_height": null,
            "min_width": null,
            "object_fit": null,
            "object_position": null,
            "order": null,
            "overflow": null,
            "overflow_x": null,
            "overflow_y": null,
            "padding": null,
            "right": null,
            "top": null,
            "visibility": null,
            "width": null
          }
        },
        "b0f8d81c7fb9420b94893f627a3c451a": {
          "model_module": "@jupyter-widgets/controls",
          "model_module_version": "1.5.0",
          "model_name": "HTMLModel",
          "state": {
            "_dom_classes": [],
            "_model_module": "@jupyter-widgets/controls",
            "_model_module_version": "1.5.0",
            "_model_name": "HTMLModel",
            "_view_count": null,
            "_view_module": "@jupyter-widgets/controls",
            "_view_module_version": "1.5.0",
            "_view_name": "HTMLView",
            "description": "",
            "description_tooltip": null,
            "layout": "IPY_MODEL_f9d73e5608e046af884dfd50111a2798",
            "placeholder": "​",
            "style": "IPY_MODEL_d1bafd42f60f4668a1bd3ee5687216c5",
            "value": " 80.3M/80.3M [00:00&lt;00:00, 216MB/s]"
          }
        },
        "bfe6bb0085f746e29129e35a945529a9": {
          "model_module": "@jupyter-widgets/base",
          "model_module_version": "1.2.0",
          "model_name": "LayoutModel",
          "state": {
            "_model_module": "@jupyter-widgets/base",
            "_model_module_version": "1.2.0",
            "_model_name": "LayoutModel",
            "_view_count": null,
            "_view_module": "@jupyter-widgets/base",
            "_view_module_version": "1.2.0",
            "_view_name": "LayoutView",
            "align_content": null,
            "align_items": null,
            "align_self": null,
            "border": null,
            "bottom": null,
            "display": null,
            "flex": null,
            "flex_flow": null,
            "grid_area": null,
            "grid_auto_columns": null,
            "grid_auto_flow": null,
            "grid_auto_rows": null,
            "grid_column": null,
            "grid_gap": null,
            "grid_row": null,
            "grid_template_areas": null,
            "grid_template_columns": null,
            "grid_template_rows": null,
            "height": null,
            "justify_content": null,
            "justify_items": null,
            "left": null,
            "margin": null,
            "max_height": null,
            "max_width": null,
            "min_height": null,
            "min_width": null,
            "object_fit": null,
            "object_position": null,
            "order": null,
            "overflow": null,
            "overflow_x": null,
            "overflow_y": null,
            "padding": null,
            "right": null,
            "top": null,
            "visibility": null,
            "width": null
          }
        },
        "c8c87cee0d514f3eba9c8954afc8fd97": {
          "model_module": "@jupyter-widgets/base",
          "model_module_version": "1.2.0",
          "model_name": "LayoutModel",
          "state": {
            "_model_module": "@jupyter-widgets/base",
            "_model_module_version": "1.2.0",
            "_model_name": "LayoutModel",
            "_view_count": null,
            "_view_module": "@jupyter-widgets/base",
            "_view_module_version": "1.2.0",
            "_view_name": "LayoutView",
            "align_content": null,
            "align_items": null,
            "align_self": null,
            "border": null,
            "bottom": null,
            "display": null,
            "flex": null,
            "flex_flow": null,
            "grid_area": null,
            "grid_auto_columns": null,
            "grid_auto_flow": null,
            "grid_auto_rows": null,
            "grid_column": null,
            "grid_gap": null,
            "grid_row": null,
            "grid_template_areas": null,
            "grid_template_columns": null,
            "grid_template_rows": null,
            "height": null,
            "justify_content": null,
            "justify_items": null,
            "left": null,
            "margin": null,
            "max_height": null,
            "max_width": null,
            "min_height": null,
            "min_width": null,
            "object_fit": null,
            "object_position": null,
            "order": null,
            "overflow": null,
            "overflow_x": null,
            "overflow_y": null,
            "padding": null,
            "right": null,
            "top": null,
            "visibility": null,
            "width": null
          }
        },
        "cd5b89ed37e64738b17aca98a061d98c": {
          "model_module": "@jupyter-widgets/controls",
          "model_module_version": "1.5.0",
          "model_name": "DescriptionStyleModel",
          "state": {
            "_model_module": "@jupyter-widgets/controls",
            "_model_module_version": "1.5.0",
            "_model_name": "DescriptionStyleModel",
            "_view_count": null,
            "_view_module": "@jupyter-widgets/base",
            "_view_module_version": "1.2.0",
            "_view_name": "StyleView",
            "description_width": ""
          }
        },
        "cf50cb4f776d464685aa7062e6d33742": {
          "model_module": "@jupyter-widgets/controls",
          "model_module_version": "1.5.0",
          "model_name": "FloatProgressModel",
          "state": {
            "_dom_classes": [],
            "_model_module": "@jupyter-widgets/controls",
            "_model_module_version": "1.5.0",
            "_model_name": "FloatProgressModel",
            "_view_count": null,
            "_view_module": "@jupyter-widgets/controls",
            "_view_module_version": "1.5.0",
            "_view_name": "ProgressView",
            "bar_style": "success",
            "description": "",
            "description_tooltip": null,
            "layout": "IPY_MODEL_3b3202c342cb443b98e562ea3e4bf45c",
            "max": 856425448,
            "min": 0,
            "orientation": "horizontal",
            "style": "IPY_MODEL_3c6a14c6957244bd83bdecf7478b4960",
            "value": 856425448
          }
        },
        "d1bafd42f60f4668a1bd3ee5687216c5": {
          "model_module": "@jupyter-widgets/controls",
          "model_module_version": "1.5.0",
          "model_name": "DescriptionStyleModel",
          "state": {
            "_model_module": "@jupyter-widgets/controls",
            "_model_module_version": "1.5.0",
            "_model_name": "DescriptionStyleModel",
            "_view_count": null,
            "_view_module": "@jupyter-widgets/base",
            "_view_module_version": "1.2.0",
            "_view_name": "StyleView",
            "description_width": ""
          }
        },
        "d2e493cde30f4b66bf7d0f589781d981": {
          "model_module": "@jupyter-widgets/controls",
          "model_module_version": "1.5.0",
          "model_name": "DescriptionStyleModel",
          "state": {
            "_model_module": "@jupyter-widgets/controls",
            "_model_module_version": "1.5.0",
            "_model_name": "DescriptionStyleModel",
            "_view_count": null,
            "_view_module": "@jupyter-widgets/base",
            "_view_module_version": "1.2.0",
            "_view_name": "StyleView",
            "description_width": ""
          }
        },
        "d7e53170e4af413fb4b5bde4693f5715": {
          "model_module": "@jupyter-widgets/base",
          "model_module_version": "1.2.0",
          "model_name": "LayoutModel",
          "state": {
            "_model_module": "@jupyter-widgets/base",
            "_model_module_version": "1.2.0",
            "_model_name": "LayoutModel",
            "_view_count": null,
            "_view_module": "@jupyter-widgets/base",
            "_view_module_version": "1.2.0",
            "_view_name": "LayoutView",
            "align_content": null,
            "align_items": null,
            "align_self": null,
            "border": null,
            "bottom": null,
            "display": null,
            "flex": null,
            "flex_flow": null,
            "grid_area": null,
            "grid_auto_columns": null,
            "grid_auto_flow": null,
            "grid_auto_rows": null,
            "grid_column": null,
            "grid_gap": null,
            "grid_row": null,
            "grid_template_areas": null,
            "grid_template_columns": null,
            "grid_template_rows": null,
            "height": null,
            "justify_content": null,
            "justify_items": null,
            "left": null,
            "margin": null,
            "max_height": null,
            "max_width": null,
            "min_height": null,
            "min_width": null,
            "object_fit": null,
            "object_position": null,
            "order": null,
            "overflow": null,
            "overflow_x": null,
            "overflow_y": null,
            "padding": null,
            "right": null,
            "top": null,
            "visibility": null,
            "width": null
          }
        },
        "ebd3c32a45344724b7281430f5167cf4": {
          "model_module": "@jupyter-widgets/controls",
          "model_module_version": "1.5.0",
          "model_name": "FloatProgressModel",
          "state": {
            "_dom_classes": [],
            "_model_module": "@jupyter-widgets/controls",
            "_model_module_version": "1.5.0",
            "_model_name": "FloatProgressModel",
            "_view_count": null,
            "_view_module": "@jupyter-widgets/controls",
            "_view_module_version": "1.5.0",
            "_view_name": "ProgressView",
            "bar_style": "success",
            "description": "",
            "description_tooltip": null,
            "layout": "IPY_MODEL_af64c21fef704a759f772a4eea2135b1",
            "max": 503,
            "min": 0,
            "orientation": "horizontal",
            "style": "IPY_MODEL_85cbc45e02764e04a1ad7ba9d43dea49",
            "value": 503
          }
        },
        "ee91d6f5b9f44e48a92331949a0e6a2b": {
          "model_module": "@jupyter-widgets/controls",
          "model_module_version": "1.5.0",
          "model_name": "DescriptionStyleModel",
          "state": {
            "_model_module": "@jupyter-widgets/controls",
            "_model_module_version": "1.5.0",
            "_model_name": "DescriptionStyleModel",
            "_view_count": null,
            "_view_module": "@jupyter-widgets/base",
            "_view_module_version": "1.2.0",
            "_view_name": "StyleView",
            "description_width": ""
          }
        },
        "eecde508342b46b181f5837e56ac7b7f": {
          "model_module": "@jupyter-widgets/controls",
          "model_module_version": "1.5.0",
          "model_name": "HTMLModel",
          "state": {
            "_dom_classes": [],
            "_model_module": "@jupyter-widgets/controls",
            "_model_module_version": "1.5.0",
            "_model_name": "HTMLModel",
            "_view_count": null,
            "_view_module": "@jupyter-widgets/controls",
            "_view_module_version": "1.5.0",
            "_view_name": "HTMLView",
            "description": "",
            "description_tooltip": null,
            "layout": "IPY_MODEL_5521d5bfc8f34036a97b2ae014276046",
            "placeholder": "​",
            "style": "IPY_MODEL_8585d7765f95413da9d871db5b0cdf89",
            "value": " 40.4M/40.4M [00:00&lt;00:00, 176MB/s]"
          }
        },
        "f1b39125448a4b6c8b0aa946e8cce31a": {
          "model_module": "@jupyter-widgets/controls",
          "model_module_version": "1.5.0",
          "model_name": "ProgressStyleModel",
          "state": {
            "_model_module": "@jupyter-widgets/controls",
            "_model_module_version": "1.5.0",
            "_model_name": "ProgressStyleModel",
            "_view_count": null,
            "_view_module": "@jupyter-widgets/base",
            "_view_module_version": "1.2.0",
            "_view_name": "StyleView",
            "bar_color": null,
            "description_width": ""
          }
        },
        "f3d0f7bb02f64d82a060b18f20784ce6": {
          "model_module": "@jupyter-widgets/controls",
          "model_module_version": "1.5.0",
          "model_name": "FloatProgressModel",
          "state": {
            "_dom_classes": [],
            "_model_module": "@jupyter-widgets/controls",
            "_model_module_version": "1.5.0",
            "_model_name": "FloatProgressModel",
            "_view_count": null,
            "_view_module": "@jupyter-widgets/controls",
            "_view_module_version": "1.5.0",
            "_view_name": "ProgressView",
            "bar_style": "success",
            "description": "",
            "description_tooltip": null,
            "layout": "IPY_MODEL_125e345a79084045a51c7ceaad739bfd",
            "max": 40356708,
            "min": 0,
            "orientation": "horizontal",
            "style": "IPY_MODEL_f1b39125448a4b6c8b0aa946e8cce31a",
            "value": 40356708
          }
        },
        "f6f3461f264b4792aaa5e2a5508032e1": {
          "model_module": "@jupyter-widgets/controls",
          "model_module_version": "1.5.0",
          "model_name": "HBoxModel",
          "state": {
            "_dom_classes": [],
            "_model_module": "@jupyter-widgets/controls",
            "_model_module_version": "1.5.0",
            "_model_name": "HBoxModel",
            "_view_count": null,
            "_view_module": "@jupyter-widgets/controls",
            "_view_module_version": "1.5.0",
            "_view_name": "HBoxView",
            "box_style": "",
            "children": [
              "IPY_MODEL_ac1a8684afd9450fbe18c10a16677482",
              "IPY_MODEL_40091257188949c988f52b13fe99c545",
              "IPY_MODEL_b0f8d81c7fb9420b94893f627a3c451a"
            ],
            "layout": "IPY_MODEL_ae0bb200369d44c9bc30acc11dc46b20"
          }
        },
        "f9d73e5608e046af884dfd50111a2798": {
          "model_module": "@jupyter-widgets/base",
          "model_module_version": "1.2.0",
          "model_name": "LayoutModel",
          "state": {
            "_model_module": "@jupyter-widgets/base",
            "_model_module_version": "1.2.0",
            "_model_name": "LayoutModel",
            "_view_count": null,
            "_view_module": "@jupyter-widgets/base",
            "_view_module_version": "1.2.0",
            "_view_name": "LayoutView",
            "align_content": null,
            "align_items": null,
            "align_self": null,
            "border": null,
            "bottom": null,
            "display": null,
            "flex": null,
            "flex_flow": null,
            "grid_area": null,
            "grid_auto_columns": null,
            "grid_auto_flow": null,
            "grid_auto_rows": null,
            "grid_column": null,
            "grid_gap": null,
            "grid_row": null,
            "grid_template_areas": null,
            "grid_template_columns": null,
            "grid_template_rows": null,
            "height": null,
            "justify_content": null,
            "justify_items": null,
            "left": null,
            "margin": null,
            "max_height": null,
            "max_width": null,
            "min_height": null,
            "min_width": null,
            "object_fit": null,
            "object_position": null,
            "order": null,
            "overflow": null,
            "overflow_x": null,
            "overflow_y": null,
            "padding": null,
            "right": null,
            "top": null,
            "visibility": null,
            "width": null
          }
        },
        "fb5a665ee0924f409af457c6feb53080": {
          "model_module": "@jupyter-widgets/controls",
          "model_module_version": "1.5.0",
          "model_name": "DescriptionStyleModel",
          "state": {
            "_model_module": "@jupyter-widgets/controls",
            "_model_module_version": "1.5.0",
            "_model_name": "DescriptionStyleModel",
            "_view_count": null,
            "_view_module": "@jupyter-widgets/base",
            "_view_module_version": "1.2.0",
            "_view_name": "StyleView",
            "description_width": ""
          }
        },
        "fc50c64c8dd34c14aae00c60c80bc14b": {
          "model_module": "@jupyter-widgets/controls",
          "model_module_version": "1.5.0",
          "model_name": "HBoxModel",
          "state": {
            "_dom_classes": [],
            "_model_module": "@jupyter-widgets/controls",
            "_model_module_version": "1.5.0",
            "_model_name": "HBoxModel",
            "_view_count": null,
            "_view_module": "@jupyter-widgets/controls",
            "_view_module_version": "1.5.0",
            "_view_name": "HBoxView",
            "box_style": "",
            "children": [
              "IPY_MODEL_502f25609563495da7f0c808812b60c8",
              "IPY_MODEL_cf50cb4f776d464685aa7062e6d33742",
              "IPY_MODEL_87e6aa93db7046bdbd2388594cc8be94"
            ],
            "layout": "IPY_MODEL_5ecd521e1d4b498397e3ff58ebeea972"
          }
        },
        "fe72872089724c16a203b005a301c594": {
          "model_module": "@jupyter-widgets/controls",
          "model_module_version": "1.5.0",
          "model_name": "HTMLModel",
          "state": {
            "_dom_classes": [],
            "_model_module": "@jupyter-widgets/controls",
            "_model_module_version": "1.5.0",
            "_model_name": "HTMLModel",
            "_view_count": null,
            "_view_module": "@jupyter-widgets/controls",
            "_view_module_version": "1.5.0",
            "_view_name": "HTMLView",
            "description": "",
            "description_tooltip": null,
            "layout": "IPY_MODEL_d7e53170e4af413fb4b5bde4693f5715",
            "placeholder": "​",
            "style": "IPY_MODEL_cd5b89ed37e64738b17aca98a061d98c",
            "value": "pytorch_model.bin: 100%"
          }
        }
      }
    }
  },
  "nbformat": 4,
  "nbformat_minor": 0
}